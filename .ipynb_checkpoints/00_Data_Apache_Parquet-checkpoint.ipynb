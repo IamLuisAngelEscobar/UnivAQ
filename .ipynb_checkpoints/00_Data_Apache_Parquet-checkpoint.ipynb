{
 "cells": [
  {
   "cell_type": "code",
   "execution_count": 4,
   "id": "8b1c76a7",
   "metadata": {},
   "outputs": [],
   "source": [
    "import pandas as pd\n",
    "\n",
    "# Step 1: Read the .xlsx file into a Pandas DataFrame\n",
    "base_name = 'completo1007_(edit)'\n",
    "base_name_xlsx = f'{base_name}.xlsx'\n",
    "base_name_parq = f'{base_name}.parquet'\n",
    "load_name = f\"/Users/luisescobar/Documents/Thesis/DataSets/1007_casi_Prismaflex_Preliminar_xlsx/{base_name_xlsx}\"\n",
    "save_name = f\"/Users/luisescobar/Documents/Thesis/DataSets/Apache_parquet/{base_name_parq}\"\n",
    "df = pd.read_excel(load_name)\n",
    "\n",
    "# Step 2: Convert the DataFrame to an Apache Parquet file using fastparquet\n",
    "df.to_parquet(save_name, engine='fastparquet')"
   ]
  },
  {
   "cell_type": "code",
   "execution_count": null,
   "id": "962a1d4d-8e6c-4dfd-8a41-66ff91204555",
   "metadata": {},
   "outputs": [],
   "source": []
  }
 ],
 "metadata": {
  "kernelspec": {
   "display_name": "Python 3 (ipykernel)",
   "language": "python",
   "name": "python3"
  },
  "language_info": {
   "codemirror_mode": {
    "name": "ipython",
    "version": 3
   },
   "file_extension": ".py",
   "mimetype": "text/x-python",
   "name": "python",
   "nbconvert_exporter": "python",
   "pygments_lexer": "ipython3",
   "version": "3.12.3"
  }
 },
 "nbformat": 4,
 "nbformat_minor": 5
}
