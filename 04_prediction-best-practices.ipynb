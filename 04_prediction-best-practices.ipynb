{
 "cells": [
  {
   "cell_type": "markdown",
   "id": "4047e964-81f3-4d5e-a78b-95b28a005568",
   "metadata": {},
   "source": [
    "<div class=\"alert alert-block alert-info\"> <b>NOTE</b> \n",
    "\n",
    "<div>\n",
    "    This is a duplicate of notebook <b>04_prediction.ipynb </b>\n",
    "    in this notebook we load the normalization weights to realize prediction with the new models.\n",
    "</div>\n",
    "</div>"
   ]
  },
  {
   "cell_type": "code",
   "execution_count": 1,
   "id": "77f0b718-f2e0-4517-a089-1e39755a5e32",
   "metadata": {},
   "outputs": [],
   "source": [
    "import os\n",
    "import joblib\n",
    "import pickle\n",
    "import random\n",
    "import pandas as pd\n",
    "import matplotlib.pyplot as plt\n",
    "from auxiliary_functions import load_joblib\n",
    "from evaluation_metrics import similarity, similarity_block, distance_pred, performance, time_window_perform, oscillation_red\n",
    "from sklearn.metrics import confusion_matrix, classification_report\n",
    "from sklearn.model_selection import train_test_split"
   ]
  },
  {
   "cell_type": "markdown",
   "id": "f23c6efa-52cb-49f6-8396-60c14a004471",
   "metadata": {},
   "source": [
    "# For testing data"
   ]
  },
  {
   "cell_type": "code",
   "execution_count": 2,
   "id": "29f4b9f6-c574-4179-a8ae-f5e791299c57",
   "metadata": {},
   "outputs": [],
   "source": [
    "#Load the model and data\n",
    "path_to_read1 = '/Users/luisescobar/Documents/Thesis/Models/ADASYN/point_six'\n",
    "path_to_read2 = '/Users/luisescobar/Documents/Thesis/DataSets/Dictionary/03_01_Train_Val_Test'\n",
    "path_to_read3 = '/Users/luisescobar/Documents/Thesis/Models'\n",
    "filename_model = 'lightgbm_model_test.pkl'\n",
    "filename_clot = 'blocking_20.pkl'\n",
    "filename_noclot = 'no_blocking_20.pkl'\n",
    "filename_scaler = 'scaler.pkl'\n",
    "\n",
    "#model_loaded = load_joblib(path_to_read1, filename_model)\n",
    "model_loaded = load_joblib(path_to_read1, filename_model)\n",
    "scaler_loaded = load_joblib(path_to_read3, filename_scaler)\n",
    "clot_dict = load_joblib(path_to_read2, filename_clot)\n",
    "no_clot_dict = load_joblib(path_to_read2, filename_noclot)\n"
   ]
  },
  {
   "cell_type": "code",
   "execution_count": 3,
   "id": "d88b7acd-bfe4-4b28-9422-7583e6442956",
   "metadata": {},
   "outputs": [
    {
     "data": {
      "text/plain": [
       "dict_keys(['df_1', 'df_923', 'df_680-df_681-concat', 'df_654', 'df_311', 'df_344-df_345-df_346-concat', 'df_902', 'df_486', 'df_513', 'df_62', 'df_653', 'df_783', 'df_790', 'df_247', 'df_190', 'df_751', 'df_764', 'df_859', 'df_115'])"
      ]
     },
     "execution_count": 3,
     "metadata": {},
     "output_type": "execute_result"
    }
   ],
   "source": [
    "#Choose arbitrary a dataset from the blocking class\n",
    "clot_dict.keys()"
   ]
  },
  {
   "cell_type": "code",
   "execution_count": 4,
   "id": "dbe849eb-34a0-496f-abcf-fcb3c67d3599",
   "metadata": {},
   "outputs": [],
   "source": [
    "lag = 10\n",
    "random.seed(42)\n",
    "loaded_dict = {**clot_dict, **no_clot_dict}\n",
    "\n",
    "items = list(loaded_dict.items())\n",
    "random.shuffle(items)\n",
    "loaded_dict = dict(items)\n",
    "\n",
    "#Create a single DataFrame ready to train\n",
    "dataframes_list = list(loaded_dict.values())\n",
    "\n",
    "# Concatenate all DataFrames vertically. Each Data Frame starts with zero so a \n",
    "combined_df = pd.concat(dataframes_list, ignore_index=False)\n",
    "#combined_df = pd.concat(dataframes_list, ignore_index=True)\n",
    "combined_df = combined_df.reset_index(drop=True)\n",
    "\n",
    "# Create lagged features for each column except the target column\n",
    "for column in combined_df.columns:\n",
    "    if column != 'Clotting_2':  # Skip the target column\n",
    "        combined_df[f'{column}_lag_{lag}'] = combined_df[column].shift(lag)\n",
    "\n",
    "# Remove rows with NaN values (due to shifting)\n",
    "df_lagged = combined_df.dropna()\n",
    "df_lagged = df_lagged.reset_index(drop=True)\n",
    "\n",
    "# Prepare features (X) and target (y)\n",
    "# Drop original columns and only use lagged features\n",
    "lagged_columns = [col for col in df_lagged.columns if 'lag_' in col]\n",
    "X = df_lagged[lagged_columns]\n",
    "X = scaler_loaded.transform(X)\n",
    "y_true = df_lagged['Clotting_2']  # Target variable"
   ]
  },
  {
   "cell_type": "code",
   "execution_count": 5,
   "id": "800a8c22-3fc8-4afa-b32d-6343e3ca22b9",
   "metadata": {},
   "outputs": [],
   "source": [
    "use_threshold = True\n",
    "\n",
    "if use_threshold == False:\n",
    "    # Make predictions using the lag feature matrix\n",
    "    y_pred = model_loaded.predict(X)\n",
    "    \n",
    "else:\n",
    "    # Get predicted probabilities\n",
    "    probs = model_loaded.predict_proba(X)\n",
    "    \n",
    "    # Define a custom threshold, e.g., 0.7\n",
    "    threshold = 0.7\n",
    "    \n",
    "    # Assign Class 1 if the probability for Class 1 is greater than or equal to the threshold, else Class 0\n",
    "    y_pred = (probs[:, 1] >= threshold).astype(int)"
   ]
  },
  {
   "cell_type": "code",
   "execution_count": 6,
   "id": "52fde714-8984-46cc-9171-d5a9e8d50dbf",
   "metadata": {},
   "outputs": [
    {
     "name": "stdout",
     "output_type": "stream",
     "text": [
      "Confusion Matrix:\n",
      "[[301711   6422]\n",
      " [   811    871]]\n",
      "Classification Report:\n",
      "              precision    recall  f1-score   support\n",
      "\n",
      "           0       1.00      0.98      0.99    308133\n",
      "           1       0.12      0.52      0.19      1682\n",
      "\n",
      "    accuracy                           0.98    309815\n",
      "   macro avg       0.56      0.75      0.59    309815\n",
      "weighted avg       0.99      0.98      0.98    309815\n",
      "\n"
     ]
    }
   ],
   "source": [
    "# Performance of the predictions\n",
    "\n",
    "# Confusion Matrix\n",
    "conf_matrix = confusion_matrix(y_true, y_pred)\n",
    "\n",
    "# Classification Report\n",
    "class_report = classification_report(y_true, y_pred)\n",
    "\n",
    "print(f\"Confusion Matrix:\\n{conf_matrix}\")\n",
    "print(f\"Classification Report:\\n{class_report}\")"
   ]
  },
  {
   "cell_type": "markdown",
   "id": "d9e633a5-b59c-472a-af97-70c12d1fd665",
   "metadata": {},
   "source": [
    "# For validation data\n",
    "To recover information from training / validation set "
   ]
  },
  {
   "cell_type": "code",
   "execution_count": 7,
   "id": "1c85b7dc-3b4a-43b7-9549-14e91371c20b",
   "metadata": {},
   "outputs": [
    {
     "name": "stdout",
     "output_type": "stream",
     "text": [
      "Confusion Matrix:\n",
      "[[126657    541]\n",
      " [     2    474]]\n",
      "Classification Report:\n",
      "              precision    recall  f1-score   support\n",
      "\n",
      "           0       1.00      1.00      1.00    127198\n",
      "           1       0.47      1.00      0.64       476\n",
      "\n",
      "    accuracy                           1.00    127674\n",
      "   macro avg       0.73      1.00      0.82    127674\n",
      "weighted avg       1.00      1.00      1.00    127674\n",
      "\n"
     ]
    }
   ],
   "source": [
    "# For validation\n",
    "path_to_read = '/Users/luisescobar/Documents/Thesis/DataSets/Dictionary/03_01_Train_Val_Test'\n",
    "path_to_save = '/Users/luisescobar/Documents/Thesis/Models'\n",
    "\n",
    "file_name_block = 'blocking_80.pkl'\n",
    "file_name_no_block = 'no_blocking_80.pkl'\n",
    "\n",
    "'''name_to_read_block = f'{path_to_read}/{file_name_block}'\n",
    "name_to_read_no_block = f'{path_to_read}/{file_name_no_block}'\n",
    "\n",
    "with open(name_to_read_block, 'rb') as file:\n",
    "    dict_block = pickle.load(file)\n",
    "\n",
    "with open(name_to_read_no_block, 'rb') as file:\n",
    "    dict_no_block = pickle.load(file)\n",
    "'''\n",
    "\n",
    "dict_block = load_joblib(path_to_read, file_name_block)\n",
    "dict_no_block = load_joblib(path_to_read, file_name_no_block)\n",
    "\n",
    "\n",
    "random.seed(42)\n",
    "loaded_dict = {**dict_block, **dict_no_block}\n",
    "\n",
    "items = list(loaded_dict.items())\n",
    "random.shuffle(items)\n",
    "loaded_dict = dict(items)\n",
    "\n",
    "#Create a single DataFrame ready to train\n",
    "dataframes_list = list(loaded_dict.values())\n",
    "\n",
    "# Concatenate all DataFrames vertically. Each Data Frame starts with zero so a \n",
    "combined_df = pd.concat(dataframes_list, ignore_index=False)\n",
    "#combined_df = pd.concat(dataframes_list, ignore_index=True)\n",
    "combined_df = combined_df.reset_index(drop=True)\n",
    "\n",
    "# Create lagged features for each column except the target column\n",
    "for column in combined_df.columns:\n",
    "    if column != 'Clotting_2':  # Skip the target column\n",
    "        combined_df[f'{column}_lag_{lag}'] = combined_df[column].shift(lag)\n",
    "\n",
    "# Remove rows with NaN values (due to shifting)\n",
    "df_lagged = combined_df.dropna()\n",
    "df_lagged = df_lagged.reset_index(drop=True)\n",
    "# Prepare features (X) and target (y)\n",
    "# Drop original columns and only use lagged features\n",
    "lagged_columns = [col for col in df_lagged.columns if 'lag_' in col]\n",
    "X = df_lagged[lagged_columns]\n",
    "X = scaler_loaded.transform(X)\n",
    "y = df_lagged['Clotting_2']  # Target variable\n",
    "\n",
    "X_train, X_test, y_train, y_test = train_test_split(X, y, test_size=0.10, shuffle=True) \n",
    "\n",
    "y_pred = model_loaded.predict(X_test)\n",
    "\n",
    "# Performance of the predictions\n",
    "\n",
    "# Confusion Matrix\n",
    "conf_matrix = confusion_matrix(y_test, y_pred)\n",
    "\n",
    "# Classification Report\n",
    "class_report = classification_report(y_test, y_pred)\n",
    "\n",
    "print(f\"Confusion Matrix:\\n{conf_matrix}\")\n",
    "print(f\"Classification Report:\\n{class_report}\")\n",
    "\n",
    "\n",
    " "
   ]
  },
  {
   "cell_type": "markdown",
   "id": "3c9b9384-e0b5-4398-a2ae-03aba8cc6979",
   "metadata": {},
   "source": [
    "# For one sample"
   ]
  },
  {
   "cell_type": "code",
   "execution_count": 7,
   "id": "dc0be869-650f-4699-922f-915dd6616097",
   "metadata": {},
   "outputs": [
    {
     "data": {
      "text/plain": [
       "dict_keys(['df_1', 'df_923', 'df_680-df_681-concat', 'df_654', 'df_311', 'df_344-df_345-df_346-concat', 'df_902', 'df_486', 'df_513', 'df_62', 'df_653', 'df_783', 'df_790', 'df_247', 'df_190', 'df_751', 'df_764', 'df_859', 'df_115'])"
      ]
     },
     "execution_count": 7,
     "metadata": {},
     "output_type": "execute_result"
    }
   ],
   "source": [
    "clot_dict.keys()"
   ]
  },
  {
   "cell_type": "code",
   "execution_count": 12,
   "id": "41335bf8-2a00-4679-b8fd-2e898c00399d",
   "metadata": {},
   "outputs": [],
   "source": [
    "df = clot_dict['df_1']\n",
    "use_threshold = False\n",
    "\n",
    "\n",
    "# Create lagged features for each column except the target column\n",
    "for column in df.columns:\n",
    "    if column != 'Clotting_2':  # Skip the target column\n",
    "        df[f'{column}_lag_{lag}'] = df[column].shift(lag)\n",
    "\n",
    "# Remove rows with NaN values (due to shifting)\n",
    "df_lagged = df.dropna()\n",
    "df_lagged = df_lagged.reset_index(drop=True)\n",
    "\n",
    "# Prepare features (X) and target (y)\n",
    "# Drop original columns and only use lagged features\n",
    "lagged_columns = [col for col in df_lagged.columns if 'lag_' in col]\n",
    "X = df_lagged[lagged_columns]\n",
    "X = scaler_loaded.transform(X)\n",
    "y_true = df_lagged['Clotting_2'] \n",
    "\n",
    "\n",
    "\n",
    "if use_threshold == False:\n",
    "    # Make predictions using the lag feature matrix\n",
    "    y_pred = model_loaded.predict(X)\n",
    "    \n",
    "else:\n",
    "    # Get predicted probabilities\n",
    "    probs = model_loaded.predict_proba(X)\n",
    "    \n",
    "    # Define a custom threshold, e.g., 0.7\n",
    "    threshold = 0.7\n",
    "    \n",
    "    # Assign Class 1 if the probability for Class 1 is greater than or equal to the threshold, else Class 0\n",
    "    y_pred = (probs[:, 1] >= threshold).astype(int)\n",
    "\n",
    "\n"
   ]
  },
  {
   "cell_type": "code",
   "execution_count": 13,
   "id": "0c55a50e-bd7e-4827-a1f7-30d84fa9ccf6",
   "metadata": {},
   "outputs": [],
   "source": [
    "# Regularization on oscillations (on test)\n",
    "y_pred_reg = oscillation_red(y_pred, 0.1, 20)\n"
   ]
  },
  {
   "cell_type": "code",
   "execution_count": 15,
   "id": "c5892e38-fc15-4557-8bfe-672edec3cf50",
   "metadata": {},
   "outputs": [
    {
     "data": {
      "image/png": "[encoded data removed]",
      "text/plain": [
       "<Figure size 1000x600 with 1 Axes>"
      ]
     },
     "metadata": {},
     "output_type": "display_data"
    }
   ],
   "source": [
    "# Compare y_true with y_pred to see in which points we have the wrong classifications\n",
    "# Plotting the two columns\n",
    "plt.figure(figsize=(10, 6))\n",
    "plt.plot(y_pred_reg, label='y_pred_reg_10', color = 'green')\n",
    "#plt.plot(y_pred, label='y_pred_10', color = 'blue')\n",
    "plt.plot(y_true, label='y_true_10', color= 'orange')\n",
    "\n",
    "\n",
    "plt.title('Prediction vs True')\n",
    "plt.xlabel('Date')\n",
    "plt.ylabel('Values')\n",
    "plt.legend(loc = 'upper left', framealpha=0.1)\n",
    "plt.grid(True)\n",
    "plt.show()"
   ]
  },
  {
   "cell_type": "code",
   "execution_count": 16,
   "id": "2f5f455d-7229-4e9c-abf2-ab2d551b6bb2",
   "metadata": {},
   "outputs": [
    {
     "name": "stdout",
     "output_type": "stream",
     "text": [
      "0.10444444444444445\n",
      "-403\n",
      "-7.115733998973682e-90\n"
     ]
    }
   ],
   "source": [
    "similar = similarity_block(y_pred_reg, y_true)\n",
    "distance = distance_pred(y_pred_reg, y_true)\n",
    "perform = performance(similar, distance, 20)\n",
    "print(similar)\n",
    "print(distance)\n",
    "print(perform)"
   ]
  },
  {
   "cell_type": "code",
   "execution_count": 17,
   "id": "a9f113f3-8525-4993-9f87-f78947f72524",
   "metadata": {},
   "outputs": [
    {
     "name": "stdout",
     "output_type": "stream",
     "text": [
      "Confussion matrix:\n",
      "+-------------------+-----+-----+\n",
      "|   True\\Prediction |   0 |   1 |\n",
      "+===================+=====+=====+\n",
      "|                 0 |   0 | 399 |\n",
      "+-------------------+-----+-----+\n",
      "|                 1 |   0 |  51 |\n",
      "+-------------------+-----+-----+\n",
      "\n",
      "Classification Report:\n",
      "+-----+-------------+----------+\n",
      "|     |   precision |   recall |\n",
      "+=====+=============+==========+\n",
      "|   0 |    0        |        0 |\n",
      "+-----+-------------+----------+\n",
      "|   1 |    0.113333 |        1 |\n",
      "+-----+-------------+----------+\n"
     ]
    }
   ],
   "source": [
    "result =  time_window_perform(y_pred_reg, y_true, 10, True)"
   ]
  },
  {
   "cell_type": "code",
   "execution_count": null,
   "id": "8f7e1925-86d7-4423-88c1-a5eb3ee48761",
   "metadata": {},
   "outputs": [],
   "source": []
  }
 ],
 "metadata": {
  "kernelspec": {
   "display_name": "Python 3 (ipykernel)",
   "language": "python",
   "name": "python3"
  },
  "language_info": {
   "codemirror_mode": {
    "name": "ipython",
    "version": 3
   },
   "file_extension": ".py",
   "mimetype": "text/x-python",
   "name": "python",
   "nbconvert_exporter": "python",
   "pygments_lexer": "ipython3",
   "version": "3.12.3"
  }
 },
 "nbformat": 4,
 "nbformat_minor": 5
}
