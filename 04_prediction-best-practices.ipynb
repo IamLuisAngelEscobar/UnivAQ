{
 "cells": [
  {
   "cell_type": "markdown",
   "id": "4047e964-81f3-4d5e-a78b-95b28a005568",
   "metadata": {},
   "source": [
    "<div class=\"alert alert-block alert-info\"> <b>NOTE</b> \n",
    "\n",
    "<div>\n",
    "    This is a duplicate of notebook <b>04_prediction.ipynb </b>\n",
    "    in this notebook we load the normalization weights to realize prediction with the new models.\n",
    "</div>\n",
    "</div>"
   ]
  },
  {
   "cell_type": "code",
   "execution_count": 1,
   "id": "77f0b718-f2e0-4517-a089-1e39755a5e32",
   "metadata": {},
   "outputs": [],
   "source": [
    "import os\n",
    "import joblib\n",
    "import pickle\n",
    "import random\n",
    "import pandas as pd\n",
    "import matplotlib.pyplot as plt\n",
    "from auxiliary_functions import load_joblib\n",
    "from sklearn.metrics import confusion_matrix, classification_report\n",
    "from sklearn.model_selection import train_test_split"
   ]
  },
  {
   "cell_type": "markdown",
   "id": "f23c6efa-52cb-49f6-8396-60c14a004471",
   "metadata": {},
   "source": [
    "# For testing data"
   ]
  },
  {
   "cell_type": "code",
   "execution_count": 2,
   "id": "29f4b9f6-c574-4179-a8ae-f5e791299c57",
   "metadata": {},
   "outputs": [],
   "source": [
    "#Load the model and data\n",
    "path_to_read1 = '/Users/luisescobar/Documents/Thesis/Models/ADASYN/point_six'\n",
    "path_to_read2 = '/Users/luisescobar/Documents/Thesis/DataSets/Dictionary/03_01_Train_Val_Test'\n",
    "path_to_read3 = '/Users/luisescobar/Documents/Thesis/Models'\n",
    "filename_model = 'lightgbm_model_test.pkl'\n",
    "filename_clot = 'blocking_20.pkl'\n",
    "filename_noclot = 'no_blocking_20.pkl'\n",
    "filename_scaler = 'scaler.pkl'\n",
    "\n",
    "#model_loaded = load_joblib(path_to_read1, filename_model)\n",
    "model_loaded = load_joblib(path_to_read1, filename_model)\n",
    "scaler_loaded = load_joblib(path_to_read3, filename_scaler)\n",
    "clot_dict = load_joblib(path_to_read2, filename_clot)\n",
    "no_clot_dict = load_joblib(path_to_read2, filename_noclot)\n"
   ]
  },
  {
   "cell_type": "code",
   "execution_count": 3,
   "id": "d88b7acd-bfe4-4b28-9422-7583e6442956",
   "metadata": {},
   "outputs": [
    {
     "data": {
      "text/plain": [
       "dict_keys(['df_1', 'df_923', 'df_680-df_681-concat', 'df_654', 'df_311', 'df_344-df_345-df_346-concat', 'df_902', 'df_486', 'df_513', 'df_62', 'df_653', 'df_783', 'df_790', 'df_247', 'df_190', 'df_751', 'df_764', 'df_859', 'df_115'])"
      ]
     },
     "execution_count": 3,
     "metadata": {},
     "output_type": "execute_result"
    }
   ],
   "source": [
    "#Choose arbitrary a dataset from the blocking class\n",
    "clot_dict.keys()"
   ]
  },
  {
   "cell_type": "code",
   "execution_count": 4,
   "id": "dbe849eb-34a0-496f-abcf-fcb3c67d3599",
   "metadata": {},
   "outputs": [],
   "source": [
    "lag = 10\n",
    "random.seed(42)\n",
    "loaded_dict = {**clot_dict, **no_clot_dict}\n",
    "\n",
    "items = list(loaded_dict.items())\n",
    "random.shuffle(items)\n",
    "loaded_dict = dict(items)\n",
    "\n",
    "#Create a single DataFrame ready to train\n",
    "dataframes_list = list(loaded_dict.values())\n",
    "\n",
    "# Concatenate all DataFrames vertically. Each Data Frame starts with zero so a \n",
    "combined_df = pd.concat(dataframes_list, ignore_index=False)\n",
    "#combined_df = pd.concat(dataframes_list, ignore_index=True)\n",
    "combined_df = combined_df.reset_index(drop=True)\n",
    "\n",
    "# Create lagged features for each column except the target column\n",
    "for column in combined_df.columns:\n",
    "    if column != 'Clotting_2':  # Skip the target column\n",
    "        combined_df[f'{column}_lag_{lag}'] = combined_df[column].shift(lag)\n",
    "\n",
    "# Remove rows with NaN values (due to shifting)\n",
    "df_lagged = combined_df.dropna()\n",
    "df_lagged = df_lagged.reset_index(drop=True)\n",
    "\n",
    "# Prepare features (X) and target (y)\n",
    "# Drop original columns and only use lagged features\n",
    "lagged_columns = [col for col in df_lagged.columns if 'lag_' in col]\n",
    "X = df_lagged[lagged_columns]\n",
    "X = scaler_loaded.transform(X)\n",
    "y_true = df_lagged['Clotting_2']  # Target variable"
   ]
  },
  {
   "cell_type": "code",
   "execution_count": 5,
   "id": "800a8c22-3fc8-4afa-b32d-6343e3ca22b9",
   "metadata": {},
   "outputs": [],
   "source": [
    "use_threshold = True\n",
    "\n",
    "if use_threshold == False:\n",
    "    # Make predictions using the lag feature matrix\n",
    "    y_pred = model_loaded.predict(X)\n",
    "    \n",
    "else:\n",
    "    # Get predicted probabilities\n",
    "    probs = model_loaded.predict_proba(X)\n",
    "    \n",
    "    # Define a custom threshold, e.g., 0.7\n",
    "    threshold = 0.7\n",
    "    \n",
    "    # Assign Class 1 if the probability for Class 1 is greater than or equal to the threshold, else Class 0\n",
    "    y_pred = (probs[:, 1] >= threshold).astype(int)"
   ]
  },
  {
   "cell_type": "code",
   "execution_count": 6,
   "id": "52fde714-8984-46cc-9171-d5a9e8d50dbf",
   "metadata": {},
   "outputs": [
    {
     "name": "stdout",
     "output_type": "stream",
     "text": [
      "Confusion Matrix:\n",
      "[[302684   5449]\n",
      " [  1081    601]]\n",
      "Classification Report:\n",
      "              precision    recall  f1-score   support\n",
      "\n",
      "           0       1.00      0.98      0.99    308133\n",
      "           1       0.10      0.36      0.16      1682\n",
      "\n",
      "    accuracy                           0.98    309815\n",
      "   macro avg       0.55      0.67      0.57    309815\n",
      "weighted avg       0.99      0.98      0.98    309815\n",
      "\n"
     ]
    }
   ],
   "source": [
    "# Performance of the predictions\n",
    "\n",
    "# Confusion Matrix\n",
    "conf_matrix = confusion_matrix(y_true, y_pred)\n",
    "\n",
    "# Classification Report\n",
    "class_report = classification_report(y_true, y_pred)\n",
    "\n",
    "print(f\"Confusion Matrix:\\n{conf_matrix}\")\n",
    "print(f\"Classification Report:\\n{class_report}\")"
   ]
  },
  {
   "cell_type": "markdown",
   "id": "d9e633a5-b59c-472a-af97-70c12d1fd665",
   "metadata": {},
   "source": [
    "# For validation data\n",
    "To recover information from training / validation set "
   ]
  },
  {
   "cell_type": "code",
   "execution_count": 7,
   "id": "1c85b7dc-3b4a-43b7-9549-14e91371c20b",
   "metadata": {},
   "outputs": [
    {
     "name": "stdout",
     "output_type": "stream",
     "text": [
      "Confusion Matrix:\n",
      "[[126657    541]\n",
      " [     2    474]]\n",
      "Classification Report:\n",
      "              precision    recall  f1-score   support\n",
      "\n",
      "           0       1.00      1.00      1.00    127198\n",
      "           1       0.47      1.00      0.64       476\n",
      "\n",
      "    accuracy                           1.00    127674\n",
      "   macro avg       0.73      1.00      0.82    127674\n",
      "weighted avg       1.00      1.00      1.00    127674\n",
      "\n"
     ]
    }
   ],
   "source": [
    "# For validation\n",
    "path_to_read = '/Users/luisescobar/Documents/Thesis/DataSets/Dictionary/03_01_Train_Val_Test'\n",
    "path_to_save = '/Users/luisescobar/Documents/Thesis/Models'\n",
    "\n",
    "file_name_block = 'blocking_80.pkl'\n",
    "file_name_no_block = 'no_blocking_80.pkl'\n",
    "\n",
    "'''name_to_read_block = f'{path_to_read}/{file_name_block}'\n",
    "name_to_read_no_block = f'{path_to_read}/{file_name_no_block}'\n",
    "\n",
    "with open(name_to_read_block, 'rb') as file:\n",
    "    dict_block = pickle.load(file)\n",
    "\n",
    "with open(name_to_read_no_block, 'rb') as file:\n",
    "    dict_no_block = pickle.load(file)\n",
    "'''\n",
    "\n",
    "dict_block = load_joblib(path_to_read, file_name_block)\n",
    "dict_no_block = load_joblib(path_to_read, file_name_no_block)\n",
    "\n",
    "\n",
    "random.seed(42)\n",
    "loaded_dict = {**dict_block, **dict_no_block}\n",
    "\n",
    "items = list(loaded_dict.items())\n",
    "random.shuffle(items)\n",
    "loaded_dict = dict(items)\n",
    "\n",
    "#Create a single DataFrame ready to train\n",
    "dataframes_list = list(loaded_dict.values())\n",
    "\n",
    "# Concatenate all DataFrames vertically. Each Data Frame starts with zero so a \n",
    "combined_df = pd.concat(dataframes_list, ignore_index=False)\n",
    "#combined_df = pd.concat(dataframes_list, ignore_index=True)\n",
    "combined_df = combined_df.reset_index(drop=True)\n",
    "\n",
    "# Create lagged features for each column except the target column\n",
    "for column in combined_df.columns:\n",
    "    if column != 'Clotting_2':  # Skip the target column\n",
    "        combined_df[f'{column}_lag_{lag}'] = combined_df[column].shift(lag)\n",
    "\n",
    "# Remove rows with NaN values (due to shifting)\n",
    "df_lagged = combined_df.dropna()\n",
    "df_lagged = df_lagged.reset_index(drop=True)\n",
    "# Prepare features (X) and target (y)\n",
    "# Drop original columns and only use lagged features\n",
    "lagged_columns = [col for col in df_lagged.columns if 'lag_' in col]\n",
    "X = df_lagged[lagged_columns]\n",
    "X = scaler_loaded.transform(X)\n",
    "y = df_lagged['Clotting_2']  # Target variable\n",
    "\n",
    "X_train, X_test, y_train, y_test = train_test_split(X, y, test_size=0.10, shuffle=True) \n",
    "\n",
    "y_pred = model_loaded.predict(X_test)\n",
    "\n",
    "# Performance of the predictions\n",
    "\n",
    "# Confusion Matrix\n",
    "conf_matrix = confusion_matrix(y_test, y_pred)\n",
    "\n",
    "# Classification Report\n",
    "class_report = classification_report(y_test, y_pred)\n",
    "\n",
    "print(f\"Confusion Matrix:\\n{conf_matrix}\")\n",
    "print(f\"Classification Report:\\n{class_report}\")\n",
    "\n",
    "\n",
    " "
   ]
  },
  {
   "cell_type": "markdown",
   "id": "3c9b9384-e0b5-4398-a2ae-03aba8cc6979",
   "metadata": {},
   "source": [
    "# For one sample"
   ]
  },
  {
   "cell_type": "code",
   "execution_count": 7,
   "id": "dc0be869-650f-4699-922f-915dd6616097",
   "metadata": {},
   "outputs": [
    {
     "data": {
      "text/plain": [
       "dict_keys(['df_1', 'df_923', 'df_680-df_681-concat', 'df_654', 'df_311', 'df_344-df_345-df_346-concat', 'df_902', 'df_486', 'df_513', 'df_62', 'df_653', 'df_783', 'df_790', 'df_247', 'df_190', 'df_751', 'df_764', 'df_859', 'df_115'])"
      ]
     },
     "execution_count": 7,
     "metadata": {},
     "output_type": "execute_result"
    }
   ],
   "source": [
    "clot_dict.keys()"
   ]
  },
  {
   "cell_type": "code",
   "execution_count": 7,
   "id": "41335bf8-2a00-4679-b8fd-2e898c00399d",
   "metadata": {},
   "outputs": [
    {
     "data": {
      "image/png": "[encoded data removed]",
      "text/plain": [
       "<Figure size 1000x600 with 1 Axes>"
      ]
     },
     "metadata": {},
     "output_type": "display_data"
    }
   ],
   "source": [
    "df = clot_dict['df_1']\n",
    "use_threshold = False\n",
    "\n",
    "\n",
    "# Create lagged features for each column except the target column\n",
    "for column in df.columns:\n",
    "    if column != 'Clotting_2':  # Skip the target column\n",
    "        df[f'{column}_lag_{lag}'] = df[column].shift(lag)\n",
    "\n",
    "# Remove rows with NaN values (due to shifting)\n",
    "df_lagged = df.dropna()\n",
    "df_lagged = df_lagged.reset_index(drop=True)\n",
    "\n",
    "# Prepare features (X) and target (y)\n",
    "# Drop original columns and only use lagged features\n",
    "lagged_columns = [col for col in df_lagged.columns if 'lag_' in col]\n",
    "X = df_lagged[lagged_columns]\n",
    "X = scaler_loaded.transform(X)\n",
    "y_true = df_lagged['Clotting_2'] \n",
    "\n",
    "\n",
    "\n",
    "if use_threshold == False:\n",
    "    # Make predictions using the lag feature matrix\n",
    "    y_pred = model_loaded.predict(X)\n",
    "    \n",
    "else:\n",
    "    # Get predicted probabilities\n",
    "    probs = model_loaded.predict_proba(X)\n",
    "    \n",
    "    # Define a custom threshold, e.g., 0.7\n",
    "    threshold = 0.7\n",
    "    \n",
    "    # Assign Class 1 if the probability for Class 1 is greater than or equal to the threshold, else Class 0\n",
    "    y_pred = (probs[:, 1] >= threshold).astype(int)\n",
    "\n",
    "\n",
    "# Compare y_true with y_pred to see in which points we have the wrong classifications\n",
    "# Plotting the two columns\n",
    "plt.figure(figsize=(10, 6))\n",
    "plt.plot(y_pred, label='y_pred_10')\n",
    "plt.plot(y_true, label='y_true_10')\n",
    "\n",
    "\n",
    "plt.title('Prediction vs True')\n",
    "plt.xlabel('Date')\n",
    "plt.ylabel('Values')\n",
    "plt.legend()\n",
    "plt.grid(True)\n",
    "plt.show()"
   ]
  },
  {
   "cell_type": "code",
   "execution_count": 8,
   "id": "7a2c91b4-c7da-49a4-8193-83c02e3a7b79",
   "metadata": {},
   "outputs": [
    {
     "data": {
      "image/png": "[encoded data removed]",
      "text/plain": [
       "<Figure size 1000x600 with 1 Axes>"
      ]
     },
     "metadata": {},
     "output_type": "display_data"
    }
   ],
   "source": [
    "# Get predicted probabilities\n",
    "probs = model_loaded.predict_proba(X)\n",
    "\n",
    "# Define a custom threshold, e.g., 0.7\n",
    "threshold = 0.7\n",
    "\n",
    "# Assign Class 1 if the probability for Class 1 is greater than or equal to the threshold, else Class 0\n",
    "y_pred = (probs[:, 1] >= threshold).astype(int)\n",
    "# Plotting the two columns\n",
    "plt.figure(figsize=(10, 6))\n",
    "plt.plot(y_pred, label='y_pred_10')\n",
    "plt.plot(y_true, label='y_true_10')\n",
    "\n",
    "\n",
    "plt.title('Prediction vs True')\n",
    "plt.xlabel('Date')\n",
    "plt.ylabel('Values')\n",
    "plt.legend()\n",
    "plt.grid(True)\n",
    "plt.show()"
   ]
  },
  {
   "cell_type": "code",
   "execution_count": 9,
   "id": "e54ca9d0-dffd-4dd5-aa8c-7975ca471e97",
   "metadata": {},
   "outputs": [
    {
     "data": {
      "text/plain": [
       "array([[3.22828439e-02, 9.67717156e-01],\n",
       "       [7.72688694e-04, 9.99227311e-01],\n",
       "       [3.23928006e-03, 9.96760720e-01],\n",
       "       [1.26440570e-03, 9.98735594e-01],\n",
       "       [1.03952656e-03, 9.98960473e-01],\n",
       "       [5.92383806e-02, 9.40761619e-01],\n",
       "       [3.36203819e-03, 9.96637962e-01],\n",
       "       [2.42906420e-03, 9.97570936e-01],\n",
       "       [7.72688694e-04, 9.99227311e-01],\n",
       "       [2.42906420e-03, 9.97570936e-01],\n",
       "       [1.07015150e-03, 9.98929849e-01],\n",
       "       [1.54185604e-03, 9.98458144e-01],\n",
       "       [7.72688694e-04, 9.99227311e-01],\n",
       "       [2.41345350e-04, 9.99758655e-01],\n",
       "       [2.35122304e-04, 9.99764878e-01],\n",
       "       [2.66068349e-02, 9.73393165e-01],\n",
       "       [2.11300453e-03, 9.97886995e-01],\n",
       "       [9.43991386e-04, 9.99056009e-01],\n",
       "       [9.33618587e-03, 9.90663814e-01],\n",
       "       [2.69375972e-03, 9.97306240e-01],\n",
       "       [2.24863371e-04, 9.99775137e-01],\n",
       "       [3.99902158e-01, 6.00097842e-01],\n",
       "       [1.46566266e-03, 9.98534337e-01],\n",
       "       [1.69066754e-01, 8.30933246e-01],\n",
       "       [2.81234933e-03, 9.97187651e-01],\n",
       "       [1.62365306e-03, 9.98376347e-01],\n",
       "       [9.10805849e-04, 9.99089194e-01],\n",
       "       [3.09227935e-03, 9.96907721e-01],\n",
       "       [3.40124785e-03, 9.96598752e-01],\n",
       "       [2.58498941e-03, 9.97415011e-01],\n",
       "       [1.46952679e-03, 9.98530473e-01],\n",
       "       [7.91055918e-04, 9.99208944e-01],\n",
       "       [1.58043352e-03, 9.98419566e-01],\n",
       "       [1.76371918e-03, 9.98236281e-01],\n",
       "       [4.15502801e-03, 9.95844972e-01],\n",
       "       [1.83307525e-02, 9.81669247e-01],\n",
       "       [5.21164163e-03, 9.94788358e-01],\n",
       "       [1.42068396e-03, 9.98579316e-01],\n",
       "       [1.89866000e-03, 9.98101340e-01],\n",
       "       [1.16242545e-03, 9.98837575e-01],\n",
       "       [1.66748221e-03, 9.98332518e-01],\n",
       "       [1.85142757e-03, 9.98148572e-01],\n",
       "       [4.06986309e-03, 9.95930137e-01],\n",
       "       [6.19483858e-03, 9.93805161e-01],\n",
       "       [3.74914079e-03, 9.96250859e-01],\n",
       "       [1.77525155e-01, 8.22474845e-01],\n",
       "       [4.78004058e-03, 9.95219959e-01],\n",
       "       [1.68151274e-03, 9.98318487e-01],\n",
       "       [7.46214319e-04, 9.99253786e-01],\n",
       "       [1.48705550e-03, 9.98512945e-01]])"
      ]
     },
     "execution_count": 9,
     "metadata": {},
     "output_type": "execute_result"
    }
   ],
   "source": [
    "probs[350:400]"
   ]
  }
 ],
 "metadata": {
  "kernelspec": {
   "display_name": "Python 3 (ipykernel)",
   "language": "python",
   "name": "python3"
  },
  "language_info": {
   "codemirror_mode": {
    "name": "ipython",
    "version": 3
   },
   "file_extension": ".py",
   "mimetype": "text/x-python",
   "name": "python",
   "nbconvert_exporter": "python",
   "pygments_lexer": "ipython3",
   "version": "3.12.3"
  }
 },
 "nbformat": 4,
 "nbformat_minor": 5
}
