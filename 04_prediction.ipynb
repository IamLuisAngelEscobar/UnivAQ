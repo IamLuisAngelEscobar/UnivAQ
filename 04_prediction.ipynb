{
 "cells": [
  {
   "cell_type": "code",
   "execution_count": 1,
   "id": "77f0b718-f2e0-4517-a089-1e39755a5e32",
   "metadata": {},
   "outputs": [],
   "source": [
    "import joblib\n",
    "import pickle\n",
    "import random\n",
    "import pandas as pd\n",
    "import matplotlib.pyplot as plt\n",
    "from sklearn.metrics import confusion_matrix, classification_report\n",
    "from sklearn.model_selection import train_test_split"
   ]
  },
  {
   "cell_type": "markdown",
   "id": "f23c6efa-52cb-49f6-8396-60c14a004471",
   "metadata": {},
   "source": [
    "# For testing data"
   ]
  },
  {
   "cell_type": "code",
   "execution_count": 2,
   "id": "29f4b9f6-c574-4179-a8ae-f5e791299c57",
   "metadata": {},
   "outputs": [],
   "source": [
    "#Load the model and data\n",
    "path_to_read1 = '/Users/luisescobar/Documents/Thesis/Models'\n",
    "path_to_read2 = '/Users/luisescobar/Documents/Thesis/DataSets/Dictionary/03_01_Train_Val_Test'\n",
    "file_name_model = 'lightgbm_model.pkl'\n",
    "file_name_clot = 'blocking_10.pkl'\n",
    "file_name_no_clot = 'no_blocking_10.pkl'\n",
    "name_to_read = f'{path_to_read1}/{file_name_model}'\n",
    "model_loaded = joblib.load(name_to_read)\n",
    "\n",
    "name_to_read_clot = f'{path_to_read2}/{file_name_clot}'\n",
    "name_to_read_no_clot = f'{path_to_read2}/{file_name_no_clot}'\n",
    "\n",
    "with open(name_to_read_clot, 'rb') as file:\n",
    "    clot_dict = pickle.load(file)\n",
    "\n",
    "with open(name_to_read_no_clot, 'rb') as file:\n",
    "    no_clot_dict = pickle.load(file)\n",
    "\n",
    "lag = 10"
   ]
  },
  {
   "cell_type": "code",
   "execution_count": 3,
   "id": "d88b7acd-bfe4-4b28-9422-7583e6442956",
   "metadata": {},
   "outputs": [
    {
     "data": {
      "text/plain": [
       "dict_keys(['df_653', 'df_486', 'df_680-df_681-concat', 'df_62', 'df_923', 'df_751', 'df_654', 'df_783', 'df_513', 'df_790'])"
      ]
     },
     "execution_count": 3,
     "metadata": {},
     "output_type": "execute_result"
    }
   ],
   "source": [
    "#Choose arbitrary a dataset from the blocking class\n",
    "clot_dict.keys()"
   ]
  },
  {
   "cell_type": "code",
   "execution_count": 4,
   "id": "dbe849eb-34a0-496f-abcf-fcb3c67d3599",
   "metadata": {},
   "outputs": [],
   "source": [
    "random.seed(42)\n",
    "loaded_dict = {**clot_dict, **no_clot_dict}\n",
    "\n",
    "items = list(loaded_dict.items())\n",
    "random.shuffle(items)\n",
    "loaded_dict = dict(items)\n",
    "\n",
    "#Create a single DataFrame ready to train\n",
    "dataframes_list = list(loaded_dict.values())\n",
    "\n",
    "# Concatenate all DataFrames vertically. Each Data Frame starts with zero so a \n",
    "combined_df = pd.concat(dataframes_list, ignore_index=False)\n",
    "#combined_df = pd.concat(dataframes_list, ignore_index=True)\n",
    "combined_df = combined_df.reset_index(drop=True)\n",
    "\n",
    "# Create lagged features for each column except the target column\n",
    "for column in combined_df.columns:\n",
    "    if column != 'Clotting_2':  # Skip the target column\n",
    "        combined_df[f'{column}_lag_{lag}'] = combined_df[column].shift(lag)\n",
    "\n",
    "# Remove rows with NaN values (due to shifting)\n",
    "df_lagged = combined_df.dropna()\n",
    "df_lagged = df_lagged.reset_index(drop=True)\n",
    "\n",
    "# Prepare features (X) and target (y)\n",
    "# Drop original columns and only use lagged features\n",
    "lagged_columns = [col for col in df_lagged.columns if 'lag_' in col]\n",
    "X = df_lagged[lagged_columns]\n",
    "y_true = df_lagged['Clotting_2']  # Target variable"
   ]
  },
  {
   "cell_type": "code",
   "execution_count": 5,
   "id": "1dbab75f-f77b-4be9-b443-e714d5d6c1dd",
   "metadata": {},
   "outputs": [
    {
     "data": {
      "text/html": [
       "<div>\n",
       "<style scoped>\n",
       "    .dataframe tbody tr th:only-of-type {\n",
       "        vertical-align: middle;\n",
       "    }\n",
       "\n",
       "    .dataframe tbody tr th {\n",
       "        vertical-align: top;\n",
       "    }\n",
       "\n",
       "    .dataframe thead th {\n",
       "        text-align: right;\n",
       "    }\n",
       "</style>\n",
       "<table border=\"1\" class=\"dataframe\">\n",
       "  <thead>\n",
       "    <tr style=\"text-align: right;\">\n",
       "      <th></th>\n",
       "      <th>P_Access_lag_10</th>\n",
       "      <th>P_Filter_lag_10</th>\n",
       "      <th>P_Effluent_lag_10</th>\n",
       "      <th>P_Return_lag_10</th>\n",
       "      <th>Q_Blood_Pump_lag_10</th>\n",
       "      <th>Q_Replacement_lag_10</th>\n",
       "      <th>Q_Dialysate_lag_10</th>\n",
       "      <th>Q_PBP_lag_10</th>\n",
       "      <th>Q_Patient_Fluid_Removal_lag_10</th>\n",
       "      <th>DeltaP_lag_10</th>\n",
       "      <th>TMP_lag_10</th>\n",
       "      <th>TMPa_lag_10</th>\n",
       "    </tr>\n",
       "  </thead>\n",
       "  <tbody>\n",
       "    <tr>\n",
       "      <th>0</th>\n",
       "      <td>36.0</td>\n",
       "      <td>-36.0</td>\n",
       "      <td>-38.0</td>\n",
       "      <td>-51.0</td>\n",
       "      <td>150.0</td>\n",
       "      <td>2200.0</td>\n",
       "      <td>1200.0</td>\n",
       "      <td>700.0</td>\n",
       "      <td>80.0</td>\n",
       "      <td>-10.0</td>\n",
       "      <td>-23.5</td>\n",
       "      <td>-28.0</td>\n",
       "    </tr>\n",
       "    <tr>\n",
       "      <th>1</th>\n",
       "      <td>33.0</td>\n",
       "      <td>-36.0</td>\n",
       "      <td>-38.0</td>\n",
       "      <td>-51.0</td>\n",
       "      <td>150.0</td>\n",
       "      <td>2200.0</td>\n",
       "      <td>1200.0</td>\n",
       "      <td>700.0</td>\n",
       "      <td>80.0</td>\n",
       "      <td>-10.0</td>\n",
       "      <td>-23.5</td>\n",
       "      <td>-28.0</td>\n",
       "    </tr>\n",
       "    <tr>\n",
       "      <th>2</th>\n",
       "      <td>24.0</td>\n",
       "      <td>-36.0</td>\n",
       "      <td>-38.0</td>\n",
       "      <td>-51.0</td>\n",
       "      <td>150.0</td>\n",
       "      <td>2200.0</td>\n",
       "      <td>1200.0</td>\n",
       "      <td>700.0</td>\n",
       "      <td>80.0</td>\n",
       "      <td>-10.0</td>\n",
       "      <td>-23.5</td>\n",
       "      <td>-28.0</td>\n",
       "    </tr>\n",
       "    <tr>\n",
       "      <th>3</th>\n",
       "      <td>-114.0</td>\n",
       "      <td>49.0</td>\n",
       "      <td>-54.0</td>\n",
       "      <td>13.0</td>\n",
       "      <td>150.0</td>\n",
       "      <td>2200.0</td>\n",
       "      <td>1200.0</td>\n",
       "      <td>700.0</td>\n",
       "      <td>80.0</td>\n",
       "      <td>11.0</td>\n",
       "      <td>67.0</td>\n",
       "      <td>73.0</td>\n",
       "    </tr>\n",
       "    <tr>\n",
       "      <th>4</th>\n",
       "      <td>-116.0</td>\n",
       "      <td>116.0</td>\n",
       "      <td>-30.0</td>\n",
       "      <td>66.0</td>\n",
       "      <td>150.0</td>\n",
       "      <td>2200.0</td>\n",
       "      <td>1200.0</td>\n",
       "      <td>700.0</td>\n",
       "      <td>80.0</td>\n",
       "      <td>25.0</td>\n",
       "      <td>103.0</td>\n",
       "      <td>116.0</td>\n",
       "    </tr>\n",
       "  </tbody>\n",
       "</table>\n",
       "</div>"
      ],
      "text/plain": [
       "   P_Access_lag_10  P_Filter_lag_10  P_Effluent_lag_10  P_Return_lag_10  \\\n",
       "0             36.0            -36.0              -38.0            -51.0   \n",
       "1             33.0            -36.0              -38.0            -51.0   \n",
       "2             24.0            -36.0              -38.0            -51.0   \n",
       "3           -114.0             49.0              -54.0             13.0   \n",
       "4           -116.0            116.0              -30.0             66.0   \n",
       "\n",
       "   Q_Blood_Pump_lag_10  Q_Replacement_lag_10  Q_Dialysate_lag_10  \\\n",
       "0                150.0                2200.0              1200.0   \n",
       "1                150.0                2200.0              1200.0   \n",
       "2                150.0                2200.0              1200.0   \n",
       "3                150.0                2200.0              1200.0   \n",
       "4                150.0                2200.0              1200.0   \n",
       "\n",
       "   Q_PBP_lag_10  Q_Patient_Fluid_Removal_lag_10  DeltaP_lag_10  TMP_lag_10  \\\n",
       "0         700.0                            80.0          -10.0       -23.5   \n",
       "1         700.0                            80.0          -10.0       -23.5   \n",
       "2         700.0                            80.0          -10.0       -23.5   \n",
       "3         700.0                            80.0           11.0        67.0   \n",
       "4         700.0                            80.0           25.0       103.0   \n",
       "\n",
       "   TMPa_lag_10  \n",
       "0        -28.0  \n",
       "1        -28.0  \n",
       "2        -28.0  \n",
       "3         73.0  \n",
       "4        116.0  "
      ]
     },
     "execution_count": 5,
     "metadata": {},
     "output_type": "execute_result"
    }
   ],
   "source": [
    "X.head()"
   ]
  },
  {
   "cell_type": "code",
   "execution_count": 6,
   "id": "800a8c22-3fc8-4afa-b32d-6343e3ca22b9",
   "metadata": {},
   "outputs": [],
   "source": [
    "# Make predictions using the lag feature matrix\n",
    "y_pred = model_loaded.predict(X)"
   ]
  },
  {
   "cell_type": "code",
   "execution_count": 7,
   "id": "52fde714-8984-46cc-9171-d5a9e8d50dbf",
   "metadata": {},
   "outputs": [
    {
     "name": "stdout",
     "output_type": "stream",
     "text": [
      "Confusion Matrix:\n",
      "[[170203   1958]\n",
      " [   477    322]]\n",
      "Classification Report:\n",
      "              precision    recall  f1-score   support\n",
      "\n",
      "           0       1.00      0.99      0.99    172161\n",
      "           1       0.14      0.40      0.21       799\n",
      "\n",
      "    accuracy                           0.99    172960\n",
      "   macro avg       0.57      0.70      0.60    172960\n",
      "weighted avg       0.99      0.99      0.99    172960\n",
      "\n"
     ]
    }
   ],
   "source": [
    "# Performance of the predictions\n",
    "\n",
    "# Confusion Matrix\n",
    "conf_matrix = confusion_matrix(y_true, y_pred)\n",
    "\n",
    "# Classification Report\n",
    "class_report = classification_report(y_true, y_pred)\n",
    "\n",
    "print(f\"Confusion Matrix:\\n{conf_matrix}\")\n",
    "print(f\"Classification Report:\\n{class_report}\")"
   ]
  },
  {
   "cell_type": "markdown",
   "id": "d9e633a5-b59c-472a-af97-70c12d1fd665",
   "metadata": {},
   "source": [
    "# For validation data"
   ]
  },
  {
   "cell_type": "code",
   "execution_count": 8,
   "id": "1c85b7dc-3b4a-43b7-9549-14e91371c20b",
   "metadata": {},
   "outputs": [
    {
     "name": "stdout",
     "output_type": "stream",
     "text": [
      "Confusion Matrix:\n",
      "[[140592    178]\n",
      " [   140    450]]\n",
      "Classification Report:\n",
      "              precision    recall  f1-score   support\n",
      "\n",
      "           0       1.00      1.00      1.00    140770\n",
      "           1       0.72      0.76      0.74       590\n",
      "\n",
      "    accuracy                           1.00    141360\n",
      "   macro avg       0.86      0.88      0.87    141360\n",
      "weighted avg       1.00      1.00      1.00    141360\n",
      "\n"
     ]
    }
   ],
   "source": [
    "# For validation\n",
    "path_to_read = '/Users/luisescobar/Documents/Thesis/DataSets/Dictionary/03_01_Train_Val_Test'\n",
    "path_to_save = '/Users/luisescobar/Documents/Thesis/Models'\n",
    "\n",
    "file_name_block = 'blocking_90.pkl'\n",
    "file_name_no_block = 'no_blocking_90.pkl'\n",
    "\n",
    "name_to_read_block = f'{path_to_read}/{file_name_block}'\n",
    "name_to_read_no_block = f'{path_to_read}/{file_name_no_block}'\n",
    "\n",
    "with open(name_to_read_block, 'rb') as file:\n",
    "    dict_block = pickle.load(file)\n",
    "\n",
    "with open(name_to_read_no_block, 'rb') as file:\n",
    "    dict_no_block = pickle.load(file)\n",
    "\n",
    "random.seed(42)\n",
    "loaded_dict = {**dict_block, **dict_no_block}\n",
    "\n",
    "items = list(loaded_dict.items())\n",
    "random.shuffle(items)\n",
    "loaded_dict = dict(items)\n",
    "\n",
    "#Create a single DataFrame ready to train\n",
    "dataframes_list = list(loaded_dict.values())\n",
    "\n",
    "# Concatenate all DataFrames vertically. Each Data Frame starts with zero so a \n",
    "combined_df = pd.concat(dataframes_list, ignore_index=False)\n",
    "#combined_df = pd.concat(dataframes_list, ignore_index=True)\n",
    "combined_df = combined_df.reset_index(drop=True)\n",
    "\n",
    "# Create lagged features for each column except the target column\n",
    "for column in combined_df.columns:\n",
    "    if column != 'Clotting_2':  # Skip the target column\n",
    "        combined_df[f'{column}_lag_{lag}'] = combined_df[column].shift(lag)\n",
    "\n",
    "# Remove rows with NaN values (due to shifting)\n",
    "df_lagged = combined_df.dropna()\n",
    "df_lagged = df_lagged.reset_index(drop=True)\n",
    "# Prepare features (X) and target (y)\n",
    "# Drop original columns and only use lagged features\n",
    "lagged_columns = [col for col in df_lagged.columns if 'lag_' in col]\n",
    "X = df_lagged[lagged_columns]\n",
    "y = df_lagged['Clotting_2']  # Target variable\n",
    "\n",
    "X_train, X_test, y_train, y_test = train_test_split(X, y, test_size=0.10, shuffle=True) \n",
    "\n",
    "y_pred = model_loaded.predict(X_test)\n",
    "\n",
    "# Performance of the predictions\n",
    "\n",
    "# Confusion Matrix\n",
    "conf_matrix = confusion_matrix(y_test, y_pred)\n",
    "\n",
    "# Classification Report\n",
    "class_report = classification_report(y_test, y_pred)\n",
    "\n",
    "print(f\"Confusion Matrix:\\n{conf_matrix}\")\n",
    "print(f\"Classification Report:\\n{class_report}\")\n",
    "\n",
    "\n",
    " "
   ]
  },
  {
   "cell_type": "markdown",
   "id": "3c9b9384-e0b5-4398-a2ae-03aba8cc6979",
   "metadata": {},
   "source": [
    "# For one sample"
   ]
  },
  {
   "cell_type": "code",
   "execution_count": 8,
   "id": "dc0be869-650f-4699-922f-915dd6616097",
   "metadata": {},
   "outputs": [
    {
     "data": {
      "text/plain": [
       "dict_keys(['df_653', 'df_486', 'df_680-df_681-concat', 'df_62', 'df_923', 'df_751', 'df_654', 'df_783', 'df_513', 'df_790'])"
      ]
     },
     "execution_count": 8,
     "metadata": {},
     "output_type": "execute_result"
    }
   ],
   "source": [
    "clot_dict.keys()"
   ]
  },
  {
   "cell_type": "code",
   "execution_count": 9,
   "id": "038fc2b5-8674-4807-bb4b-2e8c23dab03d",
   "metadata": {},
   "outputs": [
    {
     "data": {
      "text/html": [
       "<div>\n",
       "<style scoped>\n",
       "    .dataframe tbody tr th:only-of-type {\n",
       "        vertical-align: middle;\n",
       "    }\n",
       "\n",
       "    .dataframe tbody tr th {\n",
       "        vertical-align: top;\n",
       "    }\n",
       "\n",
       "    .dataframe thead th {\n",
       "        text-align: right;\n",
       "    }\n",
       "</style>\n",
       "<table border=\"1\" class=\"dataframe\">\n",
       "  <thead>\n",
       "    <tr style=\"text-align: right;\">\n",
       "      <th></th>\n",
       "      <th>P_Access</th>\n",
       "      <th>P_Filter</th>\n",
       "      <th>P_Effluent</th>\n",
       "      <th>P_Return</th>\n",
       "      <th>Q_Blood_Pump</th>\n",
       "      <th>Q_Replacement</th>\n",
       "      <th>Q_Dialysate</th>\n",
       "      <th>Q_PBP</th>\n",
       "      <th>Q_Patient_Fluid_Removal</th>\n",
       "      <th>DeltaP</th>\n",
       "      <th>TMP</th>\n",
       "      <th>TMPa</th>\n",
       "      <th>Clotting_2</th>\n",
       "    </tr>\n",
       "  </thead>\n",
       "  <tbody>\n",
       "    <tr>\n",
       "      <th>0</th>\n",
       "      <td>2</td>\n",
       "      <td>47</td>\n",
       "      <td>-30</td>\n",
       "      <td>20</td>\n",
       "      <td>150</td>\n",
       "      <td>1400</td>\n",
       "      <td>1550</td>\n",
       "      <td>680</td>\n",
       "      <td>100</td>\n",
       "      <td>2</td>\n",
       "      <td>45.5</td>\n",
       "      <td>47</td>\n",
       "      <td>0</td>\n",
       "    </tr>\n",
       "    <tr>\n",
       "      <th>1</th>\n",
       "      <td>-6</td>\n",
       "      <td>88</td>\n",
       "      <td>-1</td>\n",
       "      <td>31</td>\n",
       "      <td>150</td>\n",
       "      <td>1400</td>\n",
       "      <td>1550</td>\n",
       "      <td>680</td>\n",
       "      <td>100</td>\n",
       "      <td>32</td>\n",
       "      <td>42.5</td>\n",
       "      <td>59</td>\n",
       "      <td>0</td>\n",
       "    </tr>\n",
       "    <tr>\n",
       "      <th>2</th>\n",
       "      <td>-1</td>\n",
       "      <td>88</td>\n",
       "      <td>9</td>\n",
       "      <td>49</td>\n",
       "      <td>150</td>\n",
       "      <td>1400</td>\n",
       "      <td>1550</td>\n",
       "      <td>680</td>\n",
       "      <td>100</td>\n",
       "      <td>14</td>\n",
       "      <td>41.5</td>\n",
       "      <td>49</td>\n",
       "      <td>0</td>\n",
       "    </tr>\n",
       "    <tr>\n",
       "      <th>3</th>\n",
       "      <td>-8</td>\n",
       "      <td>78</td>\n",
       "      <td>-6</td>\n",
       "      <td>23</td>\n",
       "      <td>150</td>\n",
       "      <td>1400</td>\n",
       "      <td>1550</td>\n",
       "      <td>680</td>\n",
       "      <td>100</td>\n",
       "      <td>30</td>\n",
       "      <td>38.5</td>\n",
       "      <td>54</td>\n",
       "      <td>0</td>\n",
       "    </tr>\n",
       "    <tr>\n",
       "      <th>4</th>\n",
       "      <td>-5</td>\n",
       "      <td>78</td>\n",
       "      <td>-12</td>\n",
       "      <td>39</td>\n",
       "      <td>150</td>\n",
       "      <td>1400</td>\n",
       "      <td>1550</td>\n",
       "      <td>680</td>\n",
       "      <td>100</td>\n",
       "      <td>14</td>\n",
       "      <td>52.5</td>\n",
       "      <td>60</td>\n",
       "      <td>0</td>\n",
       "    </tr>\n",
       "  </tbody>\n",
       "</table>\n",
       "</div>"
      ],
      "text/plain": [
       "   P_Access  P_Filter  P_Effluent  P_Return  Q_Blood_Pump  Q_Replacement  \\\n",
       "0         2        47         -30        20           150           1400   \n",
       "1        -6        88          -1        31           150           1400   \n",
       "2        -1        88           9        49           150           1400   \n",
       "3        -8        78          -6        23           150           1400   \n",
       "4        -5        78         -12        39           150           1400   \n",
       "\n",
       "   Q_Dialysate  Q_PBP  Q_Patient_Fluid_Removal  DeltaP   TMP  TMPa  Clotting_2  \n",
       "0         1550    680                      100       2  45.5    47           0  \n",
       "1         1550    680                      100      32  42.5    59           0  \n",
       "2         1550    680                      100      14  41.5    49           0  \n",
       "3         1550    680                      100      30  38.5    54           0  \n",
       "4         1550    680                      100      14  52.5    60           0  "
      ]
     },
     "execution_count": 9,
     "metadata": {},
     "output_type": "execute_result"
    }
   ],
   "source": [
    "df = clot_dict['df_513']\n",
    "df.head()"
   ]
  },
  {
   "cell_type": "code",
   "execution_count": 10,
   "id": "41335bf8-2a00-4679-b8fd-2e898c00399d",
   "metadata": {},
   "outputs": [],
   "source": [
    "# Create lagged features for each column except the target column\n",
    "for column in df.columns:\n",
    "    if column != 'Clotting_2':  # Skip the target column\n",
    "        df[f'{column}_lag_{lag}'] = df[column].shift(lag)\n",
    "\n",
    "# Remove rows with NaN values (due to shifting)\n",
    "df_lagged = df.dropna()\n",
    "df_lagged = df_lagged.reset_index(drop=True)\n",
    "\n",
    "# Prepare features (X) and target (y)\n",
    "# Drop original columns and only use lagged features\n",
    "lagged_columns = [col for col in df_lagged.columns if 'lag_' in col]\n",
    "X = df_lagged[lagged_columns]\n",
    "y_true = df_lagged['Clotting_2'] \n",
    "\n",
    "y_pred = model_loaded.predict(X)"
   ]
  },
  {
   "cell_type": "code",
   "execution_count": 11,
   "id": "0f18c725-4dfa-459e-be11-fbc97a6b7b8c",
   "metadata": {},
   "outputs": [
    {
     "data": {
      "image/png": "[encoded data removed]",
      "text/plain": [
       "<Figure size 1000x600 with 1 Axes>"
      ]
     },
     "metadata": {},
     "output_type": "display_data"
    }
   ],
   "source": [
    "# Compare y_true with y_pred to see in which points we have the wrong classifications\n",
    "# Plotting the two columns\n",
    "plt.figure(figsize=(10, 6))\n",
    "plt.plot(y_pred, label='y_pred_10')\n",
    "plt.plot(y_true, label='y_true_10')\n",
    "\n",
    "\n",
    "plt.title('Prediction vs True')\n",
    "plt.xlabel('Date')\n",
    "plt.ylabel('Values')\n",
    "plt.legend()\n",
    "plt.grid(True)\n",
    "plt.show()"
   ]
  },
  {
   "cell_type": "raw",
   "id": "e09ec4bf-6368-47af-8d71-98a20263cfae",
   "metadata": {},
   "source": [
    "y_pred[700:750]"
   ]
  },
  {
   "cell_type": "code",
   "execution_count": 9,
   "id": "5c69600d-b12c-48ed-8460-69e435985141",
   "metadata": {},
   "outputs": [
    {
     "name": "stdout",
     "output_type": "stream",
     "text": [
      "141360\n",
      "172960\n"
     ]
    }
   ],
   "source": [
    "print(len(y_pred))\n",
    "print(len(y_true))"
   ]
  }
 ],
 "metadata": {
  "kernelspec": {
   "display_name": "Python 3 (ipykernel)",
   "language": "python",
   "name": "python3"
  },
  "language_info": {
   "codemirror_mode": {
    "name": "ipython",
    "version": 3
   },
   "file_extension": ".py",
   "mimetype": "text/x-python",
   "name": "python",
   "nbconvert_exporter": "python",
   "pygments_lexer": "ipython3",
   "version": "3.12.3"
  }
 },
 "nbformat": 4,
 "nbformat_minor": 5
}
