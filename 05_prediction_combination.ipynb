{
 "cells": [
  {
   "cell_type": "markdown",
   "id": "4047e964-81f3-4d5e-a78b-95b28a005568",
   "metadata": {},
   "source": [
    "<div class=\"alert alert-block alert-info\"> <b>NOTE</b> \n",
    "\n",
    "<div>\n",
    "    This is a duplicate of notebook <b>04_prediction.ipynb </b>\n",
    "    in this notebook we load the normalization weights to realize prediction with the new models.\n",
    "</div>\n",
    "</div>"
   ]
  },
  {
   "cell_type": "code",
   "execution_count": 1,
   "id": "77f0b718-f2e0-4517-a089-1e39755a5e32",
   "metadata": {},
   "outputs": [],
   "source": [
    "import os\n",
    "import re\n",
    "from PIL import Image\n",
    "from auxiliary_functions import load_joblib"
   ]
  },
  {
   "cell_type": "markdown",
   "id": "f23c6efa-52cb-49f6-8396-60c14a004471",
   "metadata": {},
   "source": [
    "# For testing data"
   ]
  },
  {
   "cell_type": "code",
   "execution_count": 2,
   "id": "29f4b9f6-c574-4179-a8ae-f5e791299c57",
   "metadata": {},
   "outputs": [],
   "source": [
    "# Load the images \n",
    "model = 'lgbm'\n",
    "root_dir = f'/Users/luisescobar/Documents/Thesis/Images/TOP5_exp/{model}'\n",
    "save_dir = f'/Users/luisescobar/Documents/Thesis/Combined_images/TOP5_exp/{model}'\n",
    "path_to_read2 = '/Users/luisescobar/Documents/Thesis/DataSets/Dictionary/03_01_Train_Val_Test'\n",
    "\n",
    "filename_clot = 'blocking_20.pkl'\n",
    "filename_noclot = 'no_blocking_20.pkl'\n",
    "\n",
    "clot_dict = load_joblib(path_to_read2, filename_clot)"
   ]
  },
  {
   "cell_type": "markdown",
   "id": "3c9b9384-e0b5-4398-a2ae-03aba8cc6979",
   "metadata": {},
   "source": [
    "# For one sample"
   ]
  },
  {
   "cell_type": "code",
   "execution_count": 3,
   "id": "b77f35d5",
   "metadata": {},
   "outputs": [],
   "source": [
    "def concat_images(image_paths, name, save_dir, direction='horizontal'):\n",
    "    # Open images and store them in a list\n",
    "    images = [Image.open(path) for path in image_paths]\n",
    "    \n",
    "    # Calculate total width and height based on the chosen direction\n",
    "    if direction == 'horizontal':\n",
    "        total_width = sum(img.width for img in images)\n",
    "        max_height = max(img.height for img in images)\n",
    "        combined_image = Image.new('RGB', (total_width, max_height))\n",
    "        \n",
    "        # Paste images side-by-side\n",
    "        x_offset = 0\n",
    "        for img in images:\n",
    "            combined_image.paste(img, (x_offset, 0))\n",
    "            x_offset += img.width\n",
    "            \n",
    "    elif direction == 'vertical':\n",
    "        max_width = max(img.width for img in images)\n",
    "        total_height = sum(img.height for img in images)\n",
    "        combined_image = Image.new('RGB', (max_width, total_height))\n",
    "        \n",
    "        # Paste images one below another\n",
    "        y_offset = 0\n",
    "        for img in images:\n",
    "            combined_image.paste(img, (0, y_offset))\n",
    "            y_offset += img.height\n",
    "    \n",
    "    combined_image.save(f'{save_dir}/combine_images_{name}.png', format='PNG') \n",
    "    return combined_image\n",
    "\n"
   ]
  },
  {
   "cell_type": "code",
   "execution_count": 4,
   "id": "dc0be869-650f-4699-922f-915dd6616097",
   "metadata": {},
   "outputs": [
    {
     "data": {
      "text/plain": [
       "dict_keys(['df_1', 'df_923', 'df_680-df_681-concat', 'df_654', 'df_311', 'df_344-df_345-df_346-concat', 'df_902', 'df_486', 'df_513', 'df_62', 'df_653', 'df_783', 'df_790', 'df_247', 'df_190', 'df_751', 'df_764', 'df_859', 'df_115'])"
      ]
     },
     "execution_count": 4,
     "metadata": {},
     "output_type": "execute_result"
    }
   ],
   "source": [
    "clot_dict.keys()"
   ]
  },
  {
   "cell_type": "markdown",
   "id": "aa97f13f",
   "metadata": {},
   "source": [
    "We concatenate the individual images from 04_00_prediction-best-practices.ipynb.\n",
    "\n",
    "Now a single image will contain the response of the predictor on the same treatments for the lags we are using"
   ]
  },
  {
   "cell_type": "code",
   "execution_count": 5,
   "id": "9fa20a77",
   "metadata": {},
   "outputs": [],
   "source": [
    "for name in clot_dict.keys():\n",
    "    image_paths = []\n",
    "    \n",
    "    pattern = re.compile(rf\"^{re.escape(name)}(_|\\.).*\")\n",
    "    \n",
    "    for dirpath, _, filenames in os.walk(root_dir):\n",
    "        for filename in filenames:\n",
    "            if pattern.match(filename):\n",
    "            #if name in filename:  # Check for substring 'xgboost_model' in filename\n",
    "                image_paths.append(os.path.join(dirpath, filename))\n",
    "\n",
    "    image_paths.sort()\n",
    "    combined_image = concat_images(image_paths, name, save_dir)"
   ]
  },
  {
   "cell_type": "markdown",
   "id": "de245fd0",
   "metadata": {},
   "source": [
    "We create a single image containing all the images from the previous step. We want to compare the behavior of the predictor for the different treatments and lag values"
   ]
  },
  {
   "cell_type": "code",
   "execution_count": 6,
   "id": "9aecdeff",
   "metadata": {},
   "outputs": [],
   "source": [
    "final_paths = []\n",
    "for dirpath, _, filenames in os.walk(save_dir):\n",
    "    for filename in filenames:\n",
    "        if ('.png' in filename) and (filename != 'combine_images_final.png'):\n",
    "            final_paths.append(f'{save_dir}/{filename}')"
   ]
  },
  {
   "cell_type": "code",
   "execution_count": 7,
   "id": "dd2f1f4a",
   "metadata": {},
   "outputs": [],
   "source": [
    "combined_image = concat_images(final_paths, 'final', save_dir, direction='vertical')"
   ]
  },
  {
   "cell_type": "code",
   "execution_count": null,
   "id": "89bfc66a",
   "metadata": {},
   "outputs": [],
   "source": []
  }
 ],
 "metadata": {
  "kernelspec": {
   "display_name": "Data_Science_2024",
   "language": "python",
   "name": "python3"
  },
  "language_info": {
   "codemirror_mode": {
    "name": "ipython",
    "version": 3
   },
   "file_extension": ".py",
   "mimetype": "text/x-python",
   "name": "python",
   "nbconvert_exporter": "python",
   "pygments_lexer": "ipython3",
   "version": "3.12.3"
  }
 },
 "nbformat": 4,
 "nbformat_minor": 5
}
